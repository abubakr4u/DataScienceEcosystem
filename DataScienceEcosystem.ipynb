{
  "metadata": {
    "language_info": {
      "codemirror_mode": {
        "name": "python",
        "version": 3
      },
      "file_extension": ".py",
      "mimetype": "text/x-python",
      "name": "python",
      "nbconvert_exporter": "python",
      "pygments_lexer": "ipython3",
      "version": "3.8"
    },
    "kernelspec": {
      "name": "python",
      "display_name": "Python (Pyodide)",
      "language": "python"
    }
  },
  "nbformat_minor": 4,
  "nbformat": 4,
  "cells": [
    {
      "cell_type": "markdown",
      "source": "# H1: Data Science Tools and Ecosystem",
      "metadata": {}
    },
    {
      "cell_type": "markdown",
      "source": "### H3: In this notebook, Data Science Tools and Ecosystem are summarized.Data science tools and ecosystem refer to the collection of software, frameworks, and technologies used for data analysis, machine learning, and statistical modeling. This ecosystem is essential for extracting insights and knowledge from data.",
      "metadata": {}
    },
    {
      "cell_type": "markdown",
      "source": "### H3: Some of the popular languages that Data Scientists use are:\n1. Python\n2. R\n3. Java\n4. Skala\n5. Julia\n6. SQL",
      "metadata": {}
    },
    {
      "cell_type": "markdown",
      "source": "#### H4: Some of the commonly used libraries used by Data Scientists include:\n1. NumPy\n2. Pandas\n3. Matplotlib\n4. TensorFlow\n5. PyTorch\n6. Keras\n7. SciPy\n8. NLTK\n9. OpenCV",
      "metadata": {}
    },
    {
      "cell_type": "markdown",
      "source": "|Data Science Tools|\n|------|\n|Jupyter Notebook |\n|RStudio |\n|Spyder |",
      "metadata": {}
    },
    {
      "cell_type": "markdown",
      "source": "### H3: Below are a few examples of evaluating arithmetic expressions in Python\n2+2\n\n5-4\n\n7*3-10",
      "metadata": {}
    },
    {
      "cell_type": "code",
      "source": "#This a simple arithmetic expression to mutiply then add integers\n(3*4)+5",
      "metadata": {
        "trusted": true
      },
      "execution_count": 3,
      "outputs": [
        {
          "execution_count": 3,
          "output_type": "execute_result",
          "data": {
            "text/plain": "17"
          },
          "metadata": {}
        }
      ]
    },
    {
      "cell_type": "code",
      "source": "# Code for converting minutes into hours\n200/60",
      "metadata": {
        "trusted": true
      },
      "execution_count": 8,
      "outputs": [
        {
          "execution_count": 8,
          "output_type": "execute_result",
          "data": {
            "text/plain": "3.3333333333333335"
          },
          "metadata": {}
        }
      ]
    },
    {
      "cell_type": "markdown",
      "source": "#### H4: In this notebook, Data Science Tools and Ecosystem are summarized.Data science tools and ecosystem refer to the collection of software, frameworks, and technologies used for data analysis, machine learning, and statistical modeling. This ecosystem is essential for extracting insights and knowledge from data.\n**Objectives:**\n- Data science starts with quality data. It's crucial to collect, clean, and preprocess data effectively to draw meaningful insights.\n- Statistical Analysis Matters: Statistical techniques are fundamental for hypothesis testing, pattern recognition, and understanding data distributions.\n- Machine Learning is Versatile: Machine learning offers a wide range of algorithms for tasks like classification, regression, clustering, and recommendation systems. Choosing the right algorithm for a specific problem is key.\n- Visualization Enhances Understanding: Data visualization helps communicate findings effectively. Creating informative charts and graphs can make complex data more accessible.\n- Ethics and Privacy are Critical: Data scientists must consider ethical implications and data privacy throughout the entire data science lifecycle to ensure responsible and legal use of data.",
      "metadata": {}
    },
    {
      "cell_type": "markdown",
      "source": "## H2: Author Name\nMuhammad Abu Bakr",
      "metadata": {}
    },
    {
      "cell_type": "code",
      "source": "",
      "metadata": {},
      "execution_count": null,
      "outputs": []
    }
  ]
}